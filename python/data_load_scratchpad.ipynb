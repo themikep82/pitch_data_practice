{
 "cells": [
  {
   "cell_type": "code",
   "execution_count": 22,
   "metadata": {},
   "outputs": [],
   "source": [
    "import os\n",
    "import requests\n",
    "import pandas as pd\n",
    "import psycopg2\n",
    "\n",
    "sources = [\n",
    "    {\n",
    "        \"URL\"           : \"https://https://abc123\",\n",
    "        \"destination\"   : \"play_by_play\"\n",
    "    },\n",
    "    {\n",
    "        \"URL\"           : \"https://abc123\",\n",
    "        \"destination\"   : \"pitches\"\n",
    "    },\n",
    "    {\n",
    "        \"URL\"           : \"https://abc123\",\n",
    "        \"destination\"   : \"tracking\"\n",
    "    }\n",
    "]\n",
    "\n",
    "auth_header={\"x-api-key\" : \"abc123\"}"
   ]
  },
  {
   "cell_type": "code",
   "execution_count": 20,
   "metadata": {},
   "outputs": [
    {
     "name": "stderr",
     "output_type": "stream",
     "text": [
      "c:\\Users\\themi\\AppData\\Local\\Programs\\Python\\Python310\\lib\\site-packages\\urllib3\\connectionpool.py:1043: InsecureRequestWarning: Unverified HTTPS request is being made to host 'test.sdpinternal.com'. Adding certificate verification is strongly advised. See: https://urllib3.readthedocs.io/en/1.26.x/advanced-usage.html#ssl-warnings\n",
      "  warnings.warn(\n"
     ]
    },
    {
     "data": {
      "text/html": [
       "<div>\n",
       "<style scoped>\n",
       "    .dataframe tbody tr th:only-of-type {\n",
       "        vertical-align: middle;\n",
       "    }\n",
       "\n",
       "    .dataframe tbody tr th {\n",
       "        vertical-align: top;\n",
       "    }\n",
       "\n",
       "    .dataframe thead th {\n",
       "        text-align: right;\n",
       "    }\n",
       "</style>\n",
       "<table border=\"1\" class=\"dataframe\">\n",
       "  <thead>\n",
       "    <tr style=\"text-align: right;\">\n",
       "      <th></th>\n",
       "      <th>error</th>\n",
       "      <th>elapsed</th>\n",
       "      <th>payload</th>\n",
       "      <th>payload_length</th>\n",
       "    </tr>\n",
       "  </thead>\n",
       "  <tbody>\n",
       "    <tr>\n",
       "      <th>0</th>\n",
       "      <td>0</td>\n",
       "      <td>0.021809</td>\n",
       "      <td>{'game_pk': 672741, 'inning': 1, 'top': True, ...</td>\n",
       "      <td>82</td>\n",
       "    </tr>\n",
       "    <tr>\n",
       "      <th>1</th>\n",
       "      <td>0</td>\n",
       "      <td>0.021809</td>\n",
       "      <td>{'game_pk': 672741, 'inning': 1, 'top': True, ...</td>\n",
       "      <td>82</td>\n",
       "    </tr>\n",
       "    <tr>\n",
       "      <th>2</th>\n",
       "      <td>0</td>\n",
       "      <td>0.021809</td>\n",
       "      <td>{'game_pk': 672741, 'inning': 1, 'top': True, ...</td>\n",
       "      <td>82</td>\n",
       "    </tr>\n",
       "    <tr>\n",
       "      <th>3</th>\n",
       "      <td>0</td>\n",
       "      <td>0.021809</td>\n",
       "      <td>{'game_pk': 672741, 'inning': 1, 'top': True, ...</td>\n",
       "      <td>82</td>\n",
       "    </tr>\n",
       "    <tr>\n",
       "      <th>4</th>\n",
       "      <td>0</td>\n",
       "      <td>0.021809</td>\n",
       "      <td>{'game_pk': 672741, 'inning': 1, 'top': True, ...</td>\n",
       "      <td>82</td>\n",
       "    </tr>\n",
       "  </tbody>\n",
       "</table>\n",
       "</div>"
      ],
      "text/plain": [
       "   error   elapsed                                            payload  \\\n",
       "0      0  0.021809  {'game_pk': 672741, 'inning': 1, 'top': True, ...   \n",
       "1      0  0.021809  {'game_pk': 672741, 'inning': 1, 'top': True, ...   \n",
       "2      0  0.021809  {'game_pk': 672741, 'inning': 1, 'top': True, ...   \n",
       "3      0  0.021809  {'game_pk': 672741, 'inning': 1, 'top': True, ...   \n",
       "4      0  0.021809  {'game_pk': 672741, 'inning': 1, 'top': True, ...   \n",
       "\n",
       "   payload_length  \n",
       "0              82  \n",
       "1              82  \n",
       "2              82  \n",
       "3              82  \n",
       "4              82  "
      ]
     },
     "execution_count": 20,
     "metadata": {},
     "output_type": "execute_result"
    }
   ],
   "source": [
    "r = requests.request('GET', URLS[\"play_by_play\"], headers=auth_header, verify=False )\n",
    "\n",
    "df = pd.DataFrame(r.json())\n",
    "\n",
    "df.head()"
   ]
  },
  {
   "cell_type": "code",
   "execution_count": 21,
   "metadata": {},
   "outputs": [],
   "source": [
    "df['payload'].to_csv('foo.csv', index=False, header=False)"
   ]
  },
  {
   "cell_type": "code",
   "execution_count": 17,
   "metadata": {},
   "outputs": [],
   "source": [
    "con=psycopg2.connect(dbname='postgres',\n",
    "                        host='abc123',\n",
    "                        port=5432,\n",
    "                        user='abc123',\n",
    "                        password='abc123',\n",
    "                        options=f'-c search_path=raw_data')\n",
    "con.autocommit=True\n",
    "cur=con.cursor()\n",
    "\n",
    "f=open('foo.csv', 'r')\n",
    "cur.copy_from(f, 'play_by_play')\n",
    "f.close()\n",
    "\n",
    "cur.close()\n",
    "con.close()"
   ]
  }
 ],
 "metadata": {
  "kernelspec": {
   "display_name": "Python 3.10.2 64-bit",
   "language": "python",
   "name": "python3"
  },
  "language_info": {
   "codemirror_mode": {
    "name": "ipython",
    "version": 3
   },
   "file_extension": ".py",
   "mimetype": "text/x-python",
   "name": "python",
   "nbconvert_exporter": "python",
   "pygments_lexer": "ipython3",
   "version": "3.10.2"
  },
  "orig_nbformat": 4,
  "vscode": {
   "interpreter": {
    "hash": "fde157aa3f8387ceba8a3c6770c090bc2d14e20fea34f392122ec4b97f96bee2"
   }
  }
 },
 "nbformat": 4,
 "nbformat_minor": 2
}
